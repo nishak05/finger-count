{
  "nbformat": 4,
  "nbformat_minor": 0,
  "metadata": {
    "colab": {
      "provenance": []
    },
    "kernelspec": {
      "name": "python3",
      "display_name": "Python 3"
    },
    "language_info": {
      "name": "python"
    }
  },
  "cells": [
    {
      "cell_type": "code",
      "execution_count": null,
      "metadata": {
        "id": "mXSncLH9546w"
      },
      "outputs": [],
      "source": [
        "import cv2\n",
        "import mediapipe as mp"
      ]
    },
    {
      "cell_type": "code",
      "source": [
        "cap = cv2.VideoCapture(0)\n",
        "mp_Hands = mp.solutions.hands\n",
        "hands = mp_Hands.Hands()\n",
        "mpDraw = mp.solutions.drawing_utils\n",
        "finger_Coord = [(8, 6), (12, 10), (16, 14), (20, 18)]\n",
        "thumb_Coord = (4,2)"
      ],
      "metadata": {
        "id": "mJ7uwMFX59UF"
      },
      "execution_count": null,
      "outputs": []
    },
    {
      "cell_type": "code",
      "source": [
        "while True:\n",
        "    success, image = cap.read()\n",
        "    RGB_image = cv2.cvtColor(image, cv2.COLOR_BGR2RGB)\n",
        "    results = hands.process(RGB_image)\n",
        "    multiLandMarks = results.multi_hand_landmarks\n",
        "    if multiLandMarks:\n",
        "        handList = []\n",
        "        for handLms in multiLandMarks:\n",
        "            mpDraw.draw_landmarks(image, handLms, mp_Hands.HAND_CONNECTIONS)\n",
        "            for idx, lm in enumerate(handLms.landmark):\n",
        "                h, w, c = image.shape\n",
        "                cx, cy = int(lm.x * w), int(lm.y * h)\n",
        "                handList.append((cx, cy))\n",
        "            for point in handList:\n",
        "                cv2.circle(image, point, 5, (255, 255, 0), cv2.FILLED)\n",
        "            upCount = 0\n",
        "            for coordinate in finger_Coord:\n",
        "                if handList[coordinate[0]][1] < handList[coordinate[1]][1]:\n",
        "                    upCount += 1\n",
        "            if handList[thumb_Coord[0]][0] > handList[thumb_Coord[1]][0]:\n",
        "                upCount += 1\n",
        "            cv2.putText(image, str(upCount), (150,150), cv2.FONT_HERSHEY_PLAIN, 12, (0,255,0), 12)\n",
        "\n",
        "    cv2.imshow(\"Counting number of fingers\", image)\n",
        "    if cv2.waitKey(1) & 0xFF ==ord('q'):\n",
        "        break"
      ],
      "metadata": {
        "id": "AtlBMrww5_uv"
      },
      "execution_count": null,
      "outputs": []
    },
    {
      "cell_type": "code",
      "source": [
        "cap.release()\n",
        "cv2.destroyAllWindows()"
      ],
      "metadata": {
        "id": "mc2dj2jq6CaN"
      },
      "execution_count": null,
      "outputs": []
    }
  ]
}